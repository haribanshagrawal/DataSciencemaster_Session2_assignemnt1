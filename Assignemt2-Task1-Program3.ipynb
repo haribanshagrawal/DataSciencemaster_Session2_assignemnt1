{
 "cells": [
  {
   "cell_type": "code",
   "execution_count": 48,
   "metadata": {},
   "outputs": [],
   "source": [
    "#1.3 Implement a function longestWord() that takes a list of words and returns the longest one.\n",
    "from functools import reduce\n",
    "#Function that will return the Largest word from the list\n",
    "def longestWord(lst):\n",
    "    largestvalue=''\n",
    "    #if list has more than one item thenit will comare using reduce method using two item a item else it will return the first Item\n",
    "    if (len(lst)>1):\n",
    "        largestvalue=reduce(lambda x,y: x if len(x)>len(y) else y,lst)\n",
    "    else:\n",
    "        largestvalue=lst[0]\n",
    "    return largestvalue     \n"
   ]
  },
  {
   "cell_type": "code",
   "execution_count": 53,
   "metadata": {},
   "outputs": [
    {
     "name": "stdout",
     "output_type": "stream",
     "text": [
      "Christopher\n"
     ]
    }
   ],
   "source": [
    "print(longestWord(['Samuel','John','Ashlo','Harish','Christopher']))"
   ]
  },
  {
   "cell_type": "code",
   "execution_count": 52,
   "metadata": {},
   "outputs": [
    {
     "name": "stdout",
     "output_type": "stream",
     "text": [
      "Samuel\n"
     ]
    }
   ],
   "source": [
    "print(longestWord(['Samuel']))"
   ]
  },
  {
   "cell_type": "code",
   "execution_count": null,
   "metadata": {},
   "outputs": [],
   "source": []
  }
 ],
 "metadata": {
  "kernelspec": {
   "display_name": "Python 3",
   "language": "python",
   "name": "python3"
  },
  "language_info": {
   "codemirror_mode": {
    "name": "ipython",
    "version": 3
   },
   "file_extension": ".py",
   "mimetype": "text/x-python",
   "name": "python",
   "nbconvert_exporter": "python",
   "pygments_lexer": "ipython3",
   "version": "3.6.5"
  }
 },
 "nbformat": 4,
 "nbformat_minor": 2
}
